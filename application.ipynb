{
  "cells": [
    {
      "cell_type": "markdown",
      "metadata": {
        "id": "lG-7kc0Ox_TM"
      },
      "source": [
        "# Bayesian Neural Networks pour MNIST\n",
        "\n",
        "**Objectif** : Comprendre et implémenter un BNN pour la classification d'images MNIST\n",
        "- Partie 1 : Setup et chargement des données\n",
        "- Partie 2 : Implémentation manuelle (Bayes by Backprop)\n",
        "- Partie 3 : Bibliothèques spécialisées (Pyro, TensorFlow Probability)\n",
        "- Partie 4 : Entrainement d'un CNN Bayesian Hybride\n"
      ]
    },
    {
      "cell_type": "markdown",
      "metadata": {
        "id": "V1YYxhLNySBh"
      },
      "source": [
        "# PARTIE 1 : SETUP INITIAL"
      ]
    },
    {
      "cell_type": "code",
      "execution_count": null,
      "metadata": {
        "colab": {
          "base_uri": "https://localhost:8080/"
        },
        "id": "lOMGW5_xyJsQ",
        "outputId": "55ebcb14-ec5c-41f0-d21a-e61903c96572"
      },
      "outputs": [
        {
          "name": "stdout",
          "output_type": "stream",
          "text": [
            "Collecting pyro-ppl\n",
            "  Downloading pyro_ppl-1.9.1-py3-none-any.whl.metadata (7.8 kB)\n",
            "Requirement already satisfied: numpy>=1.7 in /usr/local/lib/python3.11/dist-packages (from pyro-ppl) (2.0.2)\n",
            "Requirement already satisfied: opt-einsum>=2.3.2 in /usr/local/lib/python3.11/dist-packages (from pyro-ppl) (3.4.0)\n",
            "Collecting pyro-api>=0.1.1 (from pyro-ppl)\n",
            "  Downloading pyro_api-0.1.2-py3-none-any.whl.metadata (2.5 kB)\n",
            "Requirement already satisfied: torch>=2.0 in /usr/local/lib/python3.11/dist-packages (from pyro-ppl) (2.6.0+cu124)\n",
            "Requirement already satisfied: tqdm>=4.36 in /usr/local/lib/python3.11/dist-packages (from pyro-ppl) (4.67.1)\n",
            "Requirement already satisfied: filelock in /usr/local/lib/python3.11/dist-packages (from torch>=2.0->pyro-ppl) (3.18.0)\n",
            "Requirement already satisfied: typing-extensions>=4.10.0 in /usr/local/lib/python3.11/dist-packages (from torch>=2.0->pyro-ppl) (4.14.0)\n",
            "Requirement already satisfied: networkx in /usr/local/lib/python3.11/dist-packages (from torch>=2.0->pyro-ppl) (3.5)\n",
            "Requirement already satisfied: jinja2 in /usr/local/lib/python3.11/dist-packages (from torch>=2.0->pyro-ppl) (3.1.6)\n",
            "Requirement already satisfied: fsspec in /usr/local/lib/python3.11/dist-packages (from torch>=2.0->pyro-ppl) (2025.3.2)\n",
            "Collecting nvidia-cuda-nvrtc-cu12==12.4.127 (from torch>=2.0->pyro-ppl)\n",
            "  Downloading nvidia_cuda_nvrtc_cu12-12.4.127-py3-none-manylinux2014_x86_64.whl.metadata (1.5 kB)\n",
            "Collecting nvidia-cuda-runtime-cu12==12.4.127 (from torch>=2.0->pyro-ppl)\n",
            "  Downloading nvidia_cuda_runtime_cu12-12.4.127-py3-none-manylinux2014_x86_64.whl.metadata (1.5 kB)\n",
            "Collecting nvidia-cuda-cupti-cu12==12.4.127 (from torch>=2.0->pyro-ppl)\n",
            "  Downloading nvidia_cuda_cupti_cu12-12.4.127-py3-none-manylinux2014_x86_64.whl.metadata (1.6 kB)\n",
            "Collecting nvidia-cudnn-cu12==9.1.0.70 (from torch>=2.0->pyro-ppl)\n",
            "  Downloading nvidia_cudnn_cu12-9.1.0.70-py3-none-manylinux2014_x86_64.whl.metadata (1.6 kB)\n",
            "Collecting nvidia-cublas-cu12==12.4.5.8 (from torch>=2.0->pyro-ppl)\n",
            "  Downloading nvidia_cublas_cu12-12.4.5.8-py3-none-manylinux2014_x86_64.whl.metadata (1.5 kB)\n",
            "Collecting nvidia-cufft-cu12==11.2.1.3 (from torch>=2.0->pyro-ppl)\n",
            "  Downloading nvidia_cufft_cu12-11.2.1.3-py3-none-manylinux2014_x86_64.whl.metadata (1.5 kB)\n",
            "Collecting nvidia-curand-cu12==10.3.5.147 (from torch>=2.0->pyro-ppl)\n",
            "  Downloading nvidia_curand_cu12-10.3.5.147-py3-none-manylinux2014_x86_64.whl.metadata (1.5 kB)\n",
            "Collecting nvidia-cusolver-cu12==11.6.1.9 (from torch>=2.0->pyro-ppl)\n",
            "  Downloading nvidia_cusolver_cu12-11.6.1.9-py3-none-manylinux2014_x86_64.whl.metadata (1.6 kB)\n",
            "Collecting nvidia-cusparse-cu12==12.3.1.170 (from torch>=2.0->pyro-ppl)\n",
            "  Downloading nvidia_cusparse_cu12-12.3.1.170-py3-none-manylinux2014_x86_64.whl.metadata (1.6 kB)\n",
            "Requirement already satisfied: nvidia-cusparselt-cu12==0.6.2 in /usr/local/lib/python3.11/dist-packages (from torch>=2.0->pyro-ppl) (0.6.2)\n",
            "Requirement already satisfied: nvidia-nccl-cu12==2.21.5 in /usr/local/lib/python3.11/dist-packages (from torch>=2.0->pyro-ppl) (2.21.5)\n",
            "Requirement already satisfied: nvidia-nvtx-cu12==12.4.127 in /usr/local/lib/python3.11/dist-packages (from torch>=2.0->pyro-ppl) (12.4.127)\n",
            "Collecting nvidia-nvjitlink-cu12==12.4.127 (from torch>=2.0->pyro-ppl)\n",
            "  Downloading nvidia_nvjitlink_cu12-12.4.127-py3-none-manylinux2014_x86_64.whl.metadata (1.5 kB)\n",
            "Requirement already satisfied: triton==3.2.0 in /usr/local/lib/python3.11/dist-packages (from torch>=2.0->pyro-ppl) (3.2.0)\n",
            "Requirement already satisfied: sympy==1.13.1 in /usr/local/lib/python3.11/dist-packages (from torch>=2.0->pyro-ppl) (1.13.1)\n",
            "Requirement already satisfied: mpmath<1.4,>=1.1.0 in /usr/local/lib/python3.11/dist-packages (from sympy==1.13.1->torch>=2.0->pyro-ppl) (1.3.0)\n",
            "Requirement already satisfied: MarkupSafe>=2.0 in /usr/local/lib/python3.11/dist-packages (from jinja2->torch>=2.0->pyro-ppl) (3.0.2)\n",
            "Downloading pyro_ppl-1.9.1-py3-none-any.whl (755 kB)\n",
            "\u001b[2K   \u001b[90m━━━━━━━━━━━━━━━━━━━━━━━━━━━━━━━━━━━━━━━━\u001b[0m \u001b[32m756.0/756.0 kB\u001b[0m \u001b[31m9.3 MB/s\u001b[0m eta \u001b[36m0:00:00\u001b[0m\n",
            "\u001b[?25hDownloading pyro_api-0.1.2-py3-none-any.whl (11 kB)\n",
            "Downloading nvidia_cublas_cu12-12.4.5.8-py3-none-manylinux2014_x86_64.whl (363.4 MB)\n",
            "\u001b[2K   \u001b[90m━━━━━━━━━━━━━━━━━━━━━━━━━━━━━━━━━━━━━━━━\u001b[0m \u001b[32m363.4/363.4 MB\u001b[0m \u001b[31m3.9 MB/s\u001b[0m eta \u001b[36m0:00:00\u001b[0m\n",
            "\u001b[?25hDownloading nvidia_cuda_cupti_cu12-12.4.127-py3-none-manylinux2014_x86_64.whl (13.8 MB)\n",
            "\u001b[2K   \u001b[90m━━━━━━━━━━━━━━━━━━━━━━━━━━━━━━━━━━━━━━━━\u001b[0m \u001b[32m13.8/13.8 MB\u001b[0m \u001b[31m61.4 MB/s\u001b[0m eta \u001b[36m0:00:00\u001b[0m\n",
            "\u001b[?25hDownloading nvidia_cuda_nvrtc_cu12-12.4.127-py3-none-manylinux2014_x86_64.whl (24.6 MB)\n",
            "\u001b[2K   \u001b[90m━━━━━━━━━━━━━━━━━━━━━━━━━━━━━━━━━━━━━━━━\u001b[0m \u001b[32m24.6/24.6 MB\u001b[0m \u001b[31m35.1 MB/s\u001b[0m eta \u001b[36m0:00:00\u001b[0m\n",
            "\u001b[?25hDownloading nvidia_cuda_runtime_cu12-12.4.127-py3-none-manylinux2014_x86_64.whl (883 kB)\n",
            "\u001b[2K   \u001b[90m━━━━━━━━━━━━━━━━━━━━━━━━━━━━━━━━━━━━━━━━\u001b[0m \u001b[32m883.7/883.7 kB\u001b[0m \u001b[31m37.7 MB/s\u001b[0m eta \u001b[36m0:00:00\u001b[0m\n",
            "\u001b[?25hDownloading nvidia_cudnn_cu12-9.1.0.70-py3-none-manylinux2014_x86_64.whl (664.8 MB)\n",
            "\u001b[2K   \u001b[90m━━━━━━━━━━━━━━━━━━━━━━━━━━━━━━━━━━━━━━━━\u001b[0m \u001b[32m664.8/664.8 MB\u001b[0m \u001b[31m2.0 MB/s\u001b[0m eta \u001b[36m0:00:00\u001b[0m\n",
            "\u001b[?25hDownloading nvidia_cufft_cu12-11.2.1.3-py3-none-manylinux2014_x86_64.whl (211.5 MB)\n",
            "\u001b[2K   \u001b[90m━━━━━━━━━━━━━━━━━━━━━━━━━━━━━━━━━━━━━━━━\u001b[0m \u001b[32m211.5/211.5 MB\u001b[0m \u001b[31m5.9 MB/s\u001b[0m eta \u001b[36m0:00:00\u001b[0m\n",
            "\u001b[?25hDownloading nvidia_curand_cu12-10.3.5.147-py3-none-manylinux2014_x86_64.whl (56.3 MB)\n",
            "\u001b[2K   \u001b[90m━━━━━━━━━━━━━━━━━━━━━━━━━━━━━━━━━━━━━━━━\u001b[0m \u001b[32m56.3/56.3 MB\u001b[0m \u001b[31m13.0 MB/s\u001b[0m eta \u001b[36m0:00:00\u001b[0m\n",
            "\u001b[?25hDownloading nvidia_cusolver_cu12-11.6.1.9-py3-none-manylinux2014_x86_64.whl (127.9 MB)\n",
            "\u001b[2K   \u001b[90m━━━━━━━━━━━━━━━━━━━━━━━━━━━━━━━━━━━━━━━━\u001b[0m \u001b[32m127.9/127.9 MB\u001b[0m \u001b[31m7.6 MB/s\u001b[0m eta \u001b[36m0:00:00\u001b[0m\n",
            "\u001b[?25hDownloading nvidia_cusparse_cu12-12.3.1.170-py3-none-manylinux2014_x86_64.whl (207.5 MB)\n",
            "\u001b[2K   \u001b[90m━━━━━━━━━━━━━━━━━━━━━━━━━━━━━━━━━━━━━━━━\u001b[0m \u001b[32m207.5/207.5 MB\u001b[0m \u001b[31m5.6 MB/s\u001b[0m eta \u001b[36m0:00:00\u001b[0m\n",
            "\u001b[?25hDownloading nvidia_nvjitlink_cu12-12.4.127-py3-none-manylinux2014_x86_64.whl (21.1 MB)\n",
            "\u001b[2K   \u001b[90m━━━━━━━━━━━━━━━━━━━━━━━━━━━━━━━━━━━━━━━━\u001b[0m \u001b[32m21.1/21.1 MB\u001b[0m \u001b[31m85.8 MB/s\u001b[0m eta \u001b[36m0:00:00\u001b[0m\n",
            "\u001b[?25hInstalling collected packages: pyro-api, nvidia-nvjitlink-cu12, nvidia-curand-cu12, nvidia-cufft-cu12, nvidia-cuda-runtime-cu12, nvidia-cuda-nvrtc-cu12, nvidia-cuda-cupti-cu12, nvidia-cublas-cu12, nvidia-cusparse-cu12, nvidia-cudnn-cu12, nvidia-cusolver-cu12, pyro-ppl\n",
            "  Attempting uninstall: nvidia-nvjitlink-cu12\n",
            "    Found existing installation: nvidia-nvjitlink-cu12 12.5.82\n",
            "    Uninstalling nvidia-nvjitlink-cu12-12.5.82:\n",
            "      Successfully uninstalled nvidia-nvjitlink-cu12-12.5.82\n",
            "  Attempting uninstall: nvidia-curand-cu12\n",
            "    Found existing installation: nvidia-curand-cu12 10.3.6.82\n",
            "    Uninstalling nvidia-curand-cu12-10.3.6.82:\n",
            "      Successfully uninstalled nvidia-curand-cu12-10.3.6.82\n",
            "  Attempting uninstall: nvidia-cufft-cu12\n",
            "    Found existing installation: nvidia-cufft-cu12 11.2.3.61\n",
            "    Uninstalling nvidia-cufft-cu12-11.2.3.61:\n",
            "      Successfully uninstalled nvidia-cufft-cu12-11.2.3.61\n",
            "  Attempting uninstall: nvidia-cuda-runtime-cu12\n",
            "    Found existing installation: nvidia-cuda-runtime-cu12 12.5.82\n",
            "    Uninstalling nvidia-cuda-runtime-cu12-12.5.82:\n",
            "      Successfully uninstalled nvidia-cuda-runtime-cu12-12.5.82\n",
            "  Attempting uninstall: nvidia-cuda-nvrtc-cu12\n",
            "    Found existing installation: nvidia-cuda-nvrtc-cu12 12.5.82\n",
            "    Uninstalling nvidia-cuda-nvrtc-cu12-12.5.82:\n",
            "      Successfully uninstalled nvidia-cuda-nvrtc-cu12-12.5.82\n",
            "  Attempting uninstall: nvidia-cuda-cupti-cu12\n",
            "    Found existing installation: nvidia-cuda-cupti-cu12 12.5.82\n",
            "    Uninstalling nvidia-cuda-cupti-cu12-12.5.82:\n",
            "      Successfully uninstalled nvidia-cuda-cupti-cu12-12.5.82\n",
            "  Attempting uninstall: nvidia-cublas-cu12\n",
            "    Found existing installation: nvidia-cublas-cu12 12.5.3.2\n",
            "    Uninstalling nvidia-cublas-cu12-12.5.3.2:\n",
            "      Successfully uninstalled nvidia-cublas-cu12-12.5.3.2\n",
            "  Attempting uninstall: nvidia-cusparse-cu12\n",
            "    Found existing installation: nvidia-cusparse-cu12 12.5.1.3\n",
            "    Uninstalling nvidia-cusparse-cu12-12.5.1.3:\n",
            "      Successfully uninstalled nvidia-cusparse-cu12-12.5.1.3\n",
            "  Attempting uninstall: nvidia-cudnn-cu12\n",
            "    Found existing installation: nvidia-cudnn-cu12 9.3.0.75\n",
            "    Uninstalling nvidia-cudnn-cu12-9.3.0.75:\n",
            "      Successfully uninstalled nvidia-cudnn-cu12-9.3.0.75\n",
            "  Attempting uninstall: nvidia-cusolver-cu12\n",
            "    Found existing installation: nvidia-cusolver-cu12 11.6.3.83\n",
            "    Uninstalling nvidia-cusolver-cu12-11.6.3.83:\n",
            "      Successfully uninstalled nvidia-cusolver-cu12-11.6.3.83\n",
            "Successfully installed nvidia-cublas-cu12-12.4.5.8 nvidia-cuda-cupti-cu12-12.4.127 nvidia-cuda-nvrtc-cu12-12.4.127 nvidia-cuda-runtime-cu12-12.4.127 nvidia-cudnn-cu12-9.1.0.70 nvidia-cufft-cu12-11.2.1.3 nvidia-curand-cu12-10.3.5.147 nvidia-cusolver-cu12-11.6.1.9 nvidia-cusparse-cu12-12.3.1.170 nvidia-nvjitlink-cu12-12.4.127 pyro-api-0.1.2 pyro-ppl-1.9.1\n",
            "Requirement already satisfied: tensorflow-probability in /usr/local/lib/python3.11/dist-packages (0.25.0)\n",
            "Requirement already satisfied: absl-py in /usr/local/lib/python3.11/dist-packages (from tensorflow-probability) (1.4.0)\n",
            "Requirement already satisfied: six>=1.10.0 in /usr/local/lib/python3.11/dist-packages (from tensorflow-probability) (1.17.0)\n",
            "Requirement already satisfied: numpy>=1.13.3 in /usr/local/lib/python3.11/dist-packages (from tensorflow-probability) (2.0.2)\n",
            "Requirement already satisfied: decorator in /usr/local/lib/python3.11/dist-packages (from tensorflow-probability) (4.4.2)\n",
            "Requirement already satisfied: cloudpickle>=1.3 in /usr/local/lib/python3.11/dist-packages (from tensorflow-probability) (3.1.1)\n",
            "Requirement already satisfied: gast>=0.3.2 in /usr/local/lib/python3.11/dist-packages (from tensorflow-probability) (0.6.0)\n",
            "Requirement already satisfied: dm-tree in /usr/local/lib/python3.11/dist-packages (from tensorflow-probability) (0.1.9)\n",
            "Requirement already satisfied: attrs>=18.2.0 in /usr/local/lib/python3.11/dist-packages (from dm-tree->tensorflow-probability) (25.3.0)\n",
            "Requirement already satisfied: wrapt>=1.11.2 in /usr/local/lib/python3.11/dist-packages (from dm-tree->tensorflow-probability) (1.17.2)\n",
            "Requirement already satisfied: matplotlib in /usr/local/lib/python3.11/dist-packages (3.10.0)\n",
            "Requirement already satisfied: seaborn in /usr/local/lib/python3.11/dist-packages (0.13.2)\n",
            "Requirement already satisfied: contourpy>=1.0.1 in /usr/local/lib/python3.11/dist-packages (from matplotlib) (1.3.2)\n",
            "Requirement already satisfied: cycler>=0.10 in /usr/local/lib/python3.11/dist-packages (from matplotlib) (0.12.1)\n",
            "Requirement already satisfied: fonttools>=4.22.0 in /usr/local/lib/python3.11/dist-packages (from matplotlib) (4.58.4)\n",
            "Requirement already satisfied: kiwisolver>=1.3.1 in /usr/local/lib/python3.11/dist-packages (from matplotlib) (1.4.8)\n",
            "Requirement already satisfied: numpy>=1.23 in /usr/local/lib/python3.11/dist-packages (from matplotlib) (2.0.2)\n",
            "Requirement already satisfied: packaging>=20.0 in /usr/local/lib/python3.11/dist-packages (from matplotlib) (24.2)\n",
            "Requirement already satisfied: pillow>=8 in /usr/local/lib/python3.11/dist-packages (from matplotlib) (11.2.1)\n",
            "Requirement already satisfied: pyparsing>=2.3.1 in /usr/local/lib/python3.11/dist-packages (from matplotlib) (3.2.3)\n",
            "Requirement already satisfied: python-dateutil>=2.7 in /usr/local/lib/python3.11/dist-packages (from matplotlib) (2.9.0.post0)\n",
            "Requirement already satisfied: pandas>=1.2 in /usr/local/lib/python3.11/dist-packages (from seaborn) (2.2.2)\n",
            "Requirement already satisfied: pytz>=2020.1 in /usr/local/lib/python3.11/dist-packages (from pandas>=1.2->seaborn) (2025.2)\n",
            "Requirement already satisfied: tzdata>=2022.7 in /usr/local/lib/python3.11/dist-packages (from pandas>=1.2->seaborn) (2025.2)\n",
            "Requirement already satisfied: six>=1.5 in /usr/local/lib/python3.11/dist-packages (from python-dateutil>=2.7->matplotlib) (1.17.0)\n",
            "Requirement already satisfied: torch in /usr/local/lib/python3.11/dist-packages (2.6.0+cu124)\n",
            "Requirement already satisfied: torchvision in /usr/local/lib/python3.11/dist-packages (0.21.0+cu124)\n",
            "Requirement already satisfied: filelock in /usr/local/lib/python3.11/dist-packages (from torch) (3.18.0)\n",
            "Requirement already satisfied: typing-extensions>=4.10.0 in /usr/local/lib/python3.11/dist-packages (from torch) (4.14.0)\n",
            "Requirement already satisfied: networkx in /usr/local/lib/python3.11/dist-packages (from torch) (3.5)\n",
            "Requirement already satisfied: jinja2 in /usr/local/lib/python3.11/dist-packages (from torch) (3.1.6)\n",
            "Requirement already satisfied: fsspec in /usr/local/lib/python3.11/dist-packages (from torch) (2025.3.2)\n",
            "Requirement already satisfied: nvidia-cuda-nvrtc-cu12==12.4.127 in /usr/local/lib/python3.11/dist-packages (from torch) (12.4.127)\n",
            "Requirement already satisfied: nvidia-cuda-runtime-cu12==12.4.127 in /usr/local/lib/python3.11/dist-packages (from torch) (12.4.127)\n",
            "Requirement already satisfied: nvidia-cuda-cupti-cu12==12.4.127 in /usr/local/lib/python3.11/dist-packages (from torch) (12.4.127)\n",
            "Requirement already satisfied: nvidia-cudnn-cu12==9.1.0.70 in /usr/local/lib/python3.11/dist-packages (from torch) (9.1.0.70)\n",
            "Requirement already satisfied: nvidia-cublas-cu12==12.4.5.8 in /usr/local/lib/python3.11/dist-packages (from torch) (12.4.5.8)\n",
            "Requirement already satisfied: nvidia-cufft-cu12==11.2.1.3 in /usr/local/lib/python3.11/dist-packages (from torch) (11.2.1.3)\n",
            "Requirement already satisfied: nvidia-curand-cu12==10.3.5.147 in /usr/local/lib/python3.11/dist-packages (from torch) (10.3.5.147)\n",
            "Requirement already satisfied: nvidia-cusolver-cu12==11.6.1.9 in /usr/local/lib/python3.11/dist-packages (from torch) (11.6.1.9)\n",
            "Requirement already satisfied: nvidia-cusparse-cu12==12.3.1.170 in /usr/local/lib/python3.11/dist-packages (from torch) (12.3.1.170)\n",
            "Requirement already satisfied: nvidia-cusparselt-cu12==0.6.2 in /usr/local/lib/python3.11/dist-packages (from torch) (0.6.2)\n",
            "Requirement already satisfied: nvidia-nccl-cu12==2.21.5 in /usr/local/lib/python3.11/dist-packages (from torch) (2.21.5)\n",
            "Requirement already satisfied: nvidia-nvtx-cu12==12.4.127 in /usr/local/lib/python3.11/dist-packages (from torch) (12.4.127)\n",
            "Requirement already satisfied: nvidia-nvjitlink-cu12==12.4.127 in /usr/local/lib/python3.11/dist-packages (from torch) (12.4.127)\n",
            "Requirement already satisfied: triton==3.2.0 in /usr/local/lib/python3.11/dist-packages (from torch) (3.2.0)\n",
            "Requirement already satisfied: sympy==1.13.1 in /usr/local/lib/python3.11/dist-packages (from torch) (1.13.1)\n",
            "Requirement already satisfied: mpmath<1.4,>=1.1.0 in /usr/local/lib/python3.11/dist-packages (from sympy==1.13.1->torch) (1.3.0)\n",
            "Requirement already satisfied: numpy in /usr/local/lib/python3.11/dist-packages (from torchvision) (2.0.2)\n",
            "Requirement already satisfied: pillow!=8.3.*,>=5.3.0 in /usr/local/lib/python3.11/dist-packages (from torchvision) (11.2.1)\n",
            "Requirement already satisfied: MarkupSafe>=2.0 in /usr/local/lib/python3.11/dist-packages (from jinja2->torch) (3.0.2)\n"
          ]
        }
      ],
      "source": [
        "!pip install pyro-ppl\n",
        "!pip install tensorflow-probability\n",
        "!pip install matplotlib seaborn\n",
        "!pip install torch torchvision"
      ]
    },
    {
      "cell_type": "code",
      "execution_count": null,
      "metadata": {
        "colab": {
          "base_uri": "https://localhost:8080/"
        },
        "id": "UJbjy8qDyYcx",
        "outputId": "6e876c3e-6b7d-4f74-ac6d-e6b533238715"
      },
      "outputs": [
        {
          "name": "stdout",
          "output_type": "stream",
          "text": [
            "Device utilisé : cpu\n"
          ]
        }
      ],
      "source": [
        "import torch\n",
        "import torch.nn as nn\n",
        "import torch.nn.functional as F\n",
        "import torch.optim as optim\n",
        "from torch.utils.data import DataLoader\n",
        "import torchvision\n",
        "import torchvision.transforms as transforms\n",
        "\n",
        "import numpy as np\n",
        "import matplotlib.pyplot as plt\n",
        "import seaborn as sns\n",
        "from tqdm import tqdm\n",
        "import warnings\n",
        "warnings.filterwarnings('ignore')\n",
        "\n",
        "# Configuration pour la reproductibilité\n",
        "torch.manual_seed(42)\n",
        "np.random.seed(42)\n",
        "\n",
        "device = torch.device('cuda' if torch.cuda.is_available() else 'cpu')\n",
        "print(f\"Device utilisé : {device}\")"
      ]
    },
    {
      "cell_type": "markdown",
      "metadata": {
        "id": "j8nlysYZy8GZ"
      },
      "source": [
        "# Chargement du dataset MNIST"
      ]
    },
    {
      "cell_type": "code",
      "execution_count": null,
      "metadata": {
        "colab": {
          "base_uri": "https://localhost:8080/",
          "height": 540
        },
        "id": "NkEQK6Kfy43T",
        "outputId": "bb3ed366-05a7-479e-a1ce-223e4ee134cf"
      },
      "outputs": [
        {
          "name": "stdout",
          "output_type": "stream",
          "text": [
            "Nombre d'échantillons d'entraînement : 60000\n",
            "Nombre d'échantillons de test : 10000\n"
          ]
        },
        {
          "data": {
            "image/png": "[encoded data removed]",
            "text/plain": [
              "<Figure size 1200x600 with 10 Axes>"
            ]
          },
          "metadata": {},
          "output_type": "display_data"
        }
      ],
      "source": [
        "transform = transforms.Compose([\n",
        "    transforms.ToTensor(),\n",
        "    transforms.Normalize((0.1307,), (0.3081,))\n",
        "])\n",
        "\n",
        "train_dataset = torchvision.datasets.MNIST(\n",
        "    root='./data', train=True, download=True, transform=transform\n",
        ")\n",
        "test_dataset = torchvision.datasets.MNIST(\n",
        "    root='./data', train=False, download=True, transform=transform\n",
        ")\n",
        "\n",
        "\n",
        "train_loader = DataLoader(train_dataset, batch_size=128, shuffle=True)\n",
        "test_loader = DataLoader(test_dataset, batch_size=128, shuffle=False)\n",
        "\n",
        "print(f\"Nombre d'échantillons d'entraînement : {len(train_dataset)}\")\n",
        "print(f\"Nombre d'échantillons de test : {len(test_dataset)}\")\n",
        "\n",
        "# Visualisation de quelques échantillons\n",
        "fig, axes = plt.subplots(2, 5, figsize=(12, 6))\n",
        "for i, (img, label) in enumerate(train_dataset):\n",
        "    if i >= 10:\n",
        "        break\n",
        "    row, col = i // 5, i % 5\n",
        "    axes[row, col].imshow(img.squeeze(), cmap='gray')\n",
        "    axes[row, col].set_title(f'Label: {label}')\n",
        "    axes[row, col].axis('off')\n",
        "plt.tight_layout()\n",
        "plt.show()"
      ]
    },
    {
      "cell_type": "markdown",
      "metadata": {
        "id": "loW7ZeB_06zk"
      },
      "source": [
        "# PARTIE 2 : IMPLÉMENTATION MANUELLE BNN"
      ]
    },
    {
      "cell_type": "markdown",
      "metadata": {
        "id": "VNfS_uym0__A"
      },
      "source": [
        "**Bayes by Backprop - Implémentation manuelle**\n",
        "\n",
        "**Principe** :\n",
        "1. Chaque poids w est modélisé par une distribution gaussienne N(μ, σ²)\n",
        "2. On échantillonne les poids à chaque forward pass\n",
        "3. La loss combine log-likelihood et KL divergence (ELBO)\n",
        "4. Utilisation du reparametrization trick pour la backpropagation"
      ]
    },
    {
      "cell_type": "code",
      "execution_count": null,
      "metadata": {
        "id": "zJgXuJIY08I0"
      },
      "outputs": [],
      "source": [
        "class BayesianLinear(nn.Module):\n",
        "    \"\"\"\n",
        "    Couche linéaire bayésienne avec des poids probabilistes\n",
        "    \"\"\"\n",
        "    def __init__(self, in_features, out_features, prior_mu=0, prior_sigma=1):\n",
        "        super().__init__()\n",
        "        self.in_features = in_features\n",
        "        self.out_features = out_features\n",
        "\n",
        "        # Paramètres du prior (distribution a priori)\n",
        "        self.prior_mu = prior_mu\n",
        "        self.prior_sigma = prior_sigma\n",
        "        self.prior_log_sigma = np.log(prior_sigma)\n",
        "\n",
        "        # Paramètres variationnels pour les poids (posterior approximatif)\n",
        "        self.weight_mu = nn.Parameter(torch.Tensor(out_features, in_features))\n",
        "        self.weight_rho = nn.Parameter(torch.Tensor(out_features, in_features))\n",
        "\n",
        "        # Paramètres variationnels pour les biais\n",
        "        self.bias_mu = nn.Parameter(torch.Tensor(out_features))\n",
        "        self.bias_rho = nn.Parameter(torch.Tensor(out_features))\n",
        "\n",
        "        self.reset_parameters()\n",
        "\n",
        "    def reset_parameters(self):\n",
        "        \"\"\"Initialisation des paramètres\"\"\"\n",
        "        # Initialisation des moyennes\n",
        "        nn.init.kaiming_uniform_(self.weight_mu, a=np.sqrt(5))\n",
        "        fan_in, _ = nn.init._calculate_fan_in_and_fan_out(self.weight_mu)\n",
        "        bound = 1 / np.sqrt(fan_in)\n",
        "        nn.init.uniform_(self.bias_mu, -bound, bound)\n",
        "\n",
        "        # Initialisation des rho (paramètre pour sigma)\n",
        "        nn.init.constant_(self.weight_rho, -5)\n",
        "        nn.init.constant_(self.bias_rho, -5)\n",
        "\n",
        "    def forward(self, x):\n",
        "        \"\"\"\n",
        "        Forward pass avec échantillonnage des poids\n",
        "        \"\"\"\n",
        "        # Conversion rho -> sigma via softplus\n",
        "        weight_sigma = torch.log1p(torch.exp(self.weight_rho))\n",
        "        bias_sigma = torch.log1p(torch.exp(self.bias_rho))\n",
        "\n",
        "        # Échantillonnage des poids (reparametrization trick)\n",
        "        weight_eps = torch.randn_like(self.weight_mu)\n",
        "        bias_eps = torch.randn_like(self.bias_mu)\n",
        "\n",
        "        weight = self.weight_mu + weight_sigma * weight_eps\n",
        "        bias = self.bias_mu + bias_sigma * bias_eps\n",
        "\n",
        "        # Calcul de la KL divergence\n",
        "        self.kl_divergence = self._kl_divergence(\n",
        "            self.weight_mu, weight_sigma, self.bias_mu, bias_sigma\n",
        "        )\n",
        "\n",
        "        return F.linear(x, weight, bias)\n",
        "\n",
        "    def _kl_divergence(self, weight_mu, weight_sigma, bias_mu, bias_sigma):\n",
        "        \"\"\"\n",
        "        Calcul de la KL divergence entre posterior et prior\n",
        "        KL(q(w|θ) || p(w)) pour une gaussienne\n",
        "        \"\"\"\n",
        "        # KL pour les poids\n",
        "        kl_weight = 0.5 * torch.sum(\n",
        "            2 * self.prior_log_sigma - 2 * torch.log(weight_sigma) +\n",
        "            (weight_sigma.pow(2) + (weight_mu - self.prior_mu).pow(2)) /\n",
        "            (self.prior_sigma ** 2) - 1\n",
        "        )\n",
        "\n",
        "        # KL pour les biais\n",
        "        kl_bias = 0.5 * torch.sum(\n",
        "            2 * self.prior_log_sigma - 2 * torch.log(bias_sigma) +\n",
        "            (bias_sigma.pow(2) + (bias_mu - self.prior_mu).pow(2)) /\n",
        "            (self.prior_sigma ** 2) - 1\n",
        "        )\n",
        "\n",
        "        return kl_weight + kl_bias"
      ]
    },
    {
      "cell_type": "code",
      "execution_count": null,
      "metadata": {
        "id": "RVrqor8-4n-E"
      },
      "outputs": [],
      "source": [
        "class BayesianMLP(nn.Module):\n",
        "\n",
        "    def __init__(self, input_dim=784, hidden_dim=100, output_dim=10):\n",
        "        super().__init__()\n",
        "        self.fc1 = BayesianLinear(input_dim, hidden_dim)\n",
        "        self.fc2 = BayesianLinear(hidden_dim, output_dim)\n",
        "\n",
        "    def forward(self, x):\n",
        "        # Aplatissement de l'image\n",
        "        x = x.view(x.size(0), -1)\n",
        "\n",
        "        # Forward pass\n",
        "        x = torch.relu(self.fc1(x))\n",
        "        x = self.fc2(x)\n",
        "\n",
        "        # Somme des KL divergences\n",
        "        self.kl_divergence = self.fc1.kl_divergence + self.fc2.kl_divergence\n",
        "\n",
        "        return x\n",
        "\n",
        "    def predict_with_uncertainty(self, x, num_samples=100, return_samples=False):\n",
        "        \"\"\"\n",
        "        Prédiction avec estimation d'incertitude.\n",
        "        Si return_samples=True, renvoie aussi les échantillons de prédiction\n",
        "        \"\"\"\n",
        "        self.train()  # important pour échantillonner à chaque forward\n",
        "        predictions = []\n",
        "\n",
        "        with torch.no_grad():\n",
        "            for _ in range(num_samples):\n",
        "                pred = torch.softmax(self.forward(x), dim=1)\n",
        "                predictions.append(pred.cpu().numpy())\n",
        "\n",
        "        predictions = np.array(predictions)\n",
        "        mean_pred = np.mean(predictions, axis=0)\n",
        "        var_pred = np.var(predictions, axis=0)\n",
        "\n",
        "        if return_samples:\n",
        "            return mean_pred, var_pred, predictions\n",
        "        else:\n",
        "            return mean_pred, var_pred"
      ]
    },
    {
      "cell_type": "code",
      "execution_count": null,
      "metadata": {
        "id": "jbEqZiMW46Ys"
      },
      "outputs": [],
      "source": [
        "# Fonction de loss ELBO\n",
        "\n",
        "def elbo_loss(outputs, targets, kl_divergence, num_batches):\n",
        "    \"\"\"\n",
        "    Evidence Lower BOund (ELBO) loss\n",
        "    ELBO = Log-likelihood - KL divergence\n",
        "    \"\"\"\n",
        "    # Log-likelihood (negative cross-entropy)\n",
        "    log_likelihood = -F.cross_entropy(outputs, targets, reduction='sum')\n",
        "\n",
        "    # KL divergence normalisée par le nombre de batches\n",
        "    kl_term = kl_divergence / num_batches\n",
        "\n",
        "    # ELBO = maximiser log-likelihood - minimiser KL\n",
        "    # Donc loss = -log_likelihood + KL\n",
        "    elbo = -log_likelihood + kl_term\n",
        "\n",
        "    return elbo, log_likelihood, kl_term"
      ]
    },
    {
      "cell_type": "code",
      "execution_count": null,
      "metadata": {
        "colab": {
          "base_uri": "https://localhost:8080/"
        },
        "id": "kzCWSjb-B2AQ",
        "outputId": "85e30430-adac-4a7d-c54d-17c73e16fded"
      },
      "outputs": [
        {
          "name": "stderr",
          "output_type": "stream",
          "text": [
            "Epoch 1/10: 100%|██████████| 469/469 [00:26<00:00, 17.52it/s, Loss=718.3715, LL=-13.08, KL=705.29, Acc=90.54%]\n"
          ]
        },
        {
          "name": "stdout",
          "output_type": "stream",
          "text": [
            "Epoch 1: Loss=776.5041, Accuracy=90.54%\n"
          ]
        },
        {
          "name": "stderr",
          "output_type": "stream",
          "text": [
            "Epoch 2/10: 100%|██████████| 469/469 [00:25<00:00, 18.33it/s, Loss=655.1063, LL=-9.84, KL=645.27, Acc=95.48%]\n"
          ]
        },
        {
          "name": "stdout",
          "output_type": "stream",
          "text": [
            "Epoch 2: Loss=694.3779, Accuracy=95.48%\n"
          ]
        },
        {
          "name": "stderr",
          "output_type": "stream",
          "text": [
            "Epoch 3/10: 100%|██████████| 469/469 [00:26<00:00, 17.64it/s, Loss=599.5925, LL=-11.93, KL=587.67, Acc=96.80%]\n"
          ]
        },
        {
          "name": "stdout",
          "output_type": "stream",
          "text": [
            "Epoch 3: Loss=629.7421, Accuracy=96.80%\n"
          ]
        },
        {
          "name": "stderr",
          "output_type": "stream",
          "text": [
            "Epoch 4/10: 100%|██████████| 469/469 [00:24<00:00, 18.87it/s, Loss=541.3132, LL=-6.65, KL=534.67, Acc=97.47%]\n"
          ]
        },
        {
          "name": "stdout",
          "output_type": "stream",
          "text": [
            "Epoch 4: Loss=571.4688, Accuracy=97.47%\n"
          ]
        },
        {
          "name": "stderr",
          "output_type": "stream",
          "text": [
            "Epoch 5/10: 100%|██████████| 469/469 [00:25<00:00, 18.73it/s, Loss=505.1327, LL=-17.66, KL=487.47, Acc=97.78%]\n"
          ]
        },
        {
          "name": "stdout",
          "output_type": "stream",
          "text": [
            "Epoch 5: Loss=519.6362, Accuracy=97.78%\n"
          ]
        },
        {
          "name": "stderr",
          "output_type": "stream",
          "text": [
            "Epoch 6/10: 100%|██████████| 469/469 [00:25<00:00, 18.58it/s, Loss=452.1106, LL=-5.34, KL=446.77, Acc=98.01%]\n"
          ]
        },
        {
          "name": "stdout",
          "output_type": "stream",
          "text": [
            "Epoch 6: Loss=474.6783, Accuracy=98.01%\n"
          ]
        },
        {
          "name": "stderr",
          "output_type": "stream",
          "text": [
            "Epoch 7/10: 100%|██████████| 469/469 [00:24<00:00, 19.07it/s, Loss=420.3180, LL=-8.15, KL=412.16, Acc=98.14%]\n"
          ]
        },
        {
          "name": "stdout",
          "output_type": "stream",
          "text": [
            "Epoch 7: Loss=436.3819, Accuracy=98.14%\n"
          ]
        },
        {
          "name": "stderr",
          "output_type": "stream",
          "text": [
            "Epoch 8/10: 100%|██████████| 469/469 [00:25<00:00, 18.61it/s, Loss=386.4406, LL=-3.27, KL=383.17, Acc=98.10%]\n"
          ]
        },
        {
          "name": "stdout",
          "output_type": "stream",
          "text": [
            "Epoch 8: Loss=404.4982, Accuracy=98.10%\n"
          ]
        },
        {
          "name": "stderr",
          "output_type": "stream",
          "text": [
            "Epoch 9/10: 100%|██████████| 469/469 [00:24<00:00, 18.87it/s, Loss=364.7304, LL=-5.92, KL=358.81, Acc=98.21%]\n"
          ]
        },
        {
          "name": "stdout",
          "output_type": "stream",
          "text": [
            "Epoch 9: Loss=377.5053, Accuracy=98.21%\n"
          ]
        },
        {
          "name": "stderr",
          "output_type": "stream",
          "text": [
            "Epoch 10/10: 100%|██████████| 469/469 [00:25<00:00, 18.39it/s, Loss=342.9256, LL=-5.19, KL=337.74, Acc=98.21%]"
          ]
        },
        {
          "name": "stdout",
          "output_type": "stream",
          "text": [
            "Epoch 10: Loss=354.8291, Accuracy=98.21%\n"
          ]
        },
        {
          "name": "stderr",
          "output_type": "stream",
          "text": [
            "\n"
          ]
        }
      ],
      "source": [
        "# Entraînement du BNN manuel\n",
        "\n",
        "# Initialisation du modèle\n",
        "bnn_model = BayesianMLP().to(device)\n",
        "optimizer = optim.Adam(bnn_model.parameters(), lr=0.001)\n",
        "\n",
        "num_epochs = 10\n",
        "num_batches = len(train_loader)\n",
        "\n",
        "# Métriques de suivi\n",
        "train_losses = []\n",
        "train_accuracies = []\n",
        "\n",
        "for epoch in range(num_epochs):\n",
        "    bnn_model.train()\n",
        "    epoch_loss = 0\n",
        "    correct = 0\n",
        "    total = 0\n",
        "\n",
        "    pbar = tqdm(train_loader, desc=f'Epoch {epoch+1}/{num_epochs}')\n",
        "\n",
        "    for batch_idx, (data, target) in enumerate(pbar):\n",
        "        data, target = data.to(device), target.to(device)\n",
        "\n",
        "        optimizer.zero_grad()\n",
        "\n",
        "        # Forward pass\n",
        "        output = bnn_model(data)\n",
        "\n",
        "        # Calcul de la loss ELBO\n",
        "        loss, log_likelihood, kl_term = elbo_loss(\n",
        "            output, target, bnn_model.kl_divergence, num_batches\n",
        "        )\n",
        "\n",
        "        # Backward pass\n",
        "        loss.backward()\n",
        "        optimizer.step()\n",
        "\n",
        "        # Métriques\n",
        "        epoch_loss += loss.item()\n",
        "        _, predicted = output.max(1)\n",
        "        total += target.size(0)\n",
        "        correct += predicted.eq(target).sum().item()\n",
        "\n",
        "        # Mise à jour de la barre de progression\n",
        "        pbar.set_postfix({\n",
        "            'Loss': f'{loss.item():.4f}',\n",
        "            'LL': f'{log_likelihood.item():.2f}',\n",
        "            'KL': f'{kl_term.item():.2f}',\n",
        "            'Acc': f'{100.*correct/total:.2f}%'\n",
        "        })\n",
        "\n",
        "    # Sauvegarde des métriques\n",
        "    avg_loss = epoch_loss / len(train_loader)\n",
        "    accuracy = 100. * correct / total\n",
        "    train_losses.append(avg_loss)\n",
        "    train_accuracies.append(accuracy)\n",
        "\n",
        "    print(f'Epoch {epoch+1}: Loss={avg_loss:.4f}, Accuracy={accuracy:.2f}%')"
      ]
    },
    {
      "cell_type": "code",
      "execution_count": null,
      "metadata": {
        "id": "3f0A52VqLAoF"
      },
      "outputs": [],
      "source": [
        "# Évaluation avec incertitude\n",
        "\n",
        "def evaluate_with_uncertainty(model, data_loader, num_samples=50, return_samples=False):\n",
        "    \"\"\"\n",
        "    Évaluation avec estimation d'incertitude\n",
        "    \"\"\"\n",
        "    model.eval()\n",
        "    all_predictions = []\n",
        "    all_uncertainties = []\n",
        "    all_targets = []\n",
        "    all_confidences = []\n",
        "    all_mean_preds = []\n",
        "    all_samples = []\n",
        "\n",
        "    correct = 0\n",
        "    total = 0\n",
        "\n",
        "    with torch.no_grad():\n",
        "        for data, target in tqdm(data_loader, desc='Évaluation'):\n",
        "            data, target = data.to(device), target.to(device)\n",
        "\n",
        "            if return_samples:\n",
        "                mean_pred, var_pred, samples = model.predict_with_uncertainty(data, num_samples, return_samples=True)\n",
        "                all_samples.append(samples)\n",
        "            else:\n",
        "                mean_pred, var_pred = model.predict_with_uncertainty(data, num_samples)\n",
        "\n",
        "            predicted = np.argmax(mean_pred, axis=1)\n",
        "            entropy = -np.sum(mean_pred * np.log(mean_pred + 1e-8), axis=1)\n",
        "            confidence = np.max(mean_pred, axis=1)\n",
        "\n",
        "            all_predictions.extend(predicted)\n",
        "            all_uncertainties.extend(entropy)\n",
        "            all_confidences.extend(confidence)\n",
        "            all_targets.extend(target.cpu().numpy())\n",
        "            all_mean_preds.append(mean_pred)\n",
        "\n",
        "            correct += (predicted == target.cpu().numpy()).sum()\n",
        "            total += target.size(0)\n",
        "\n",
        "    accuracy = 100. * correct / total\n",
        "    print(f'Accuracy BNN manuel : {accuracy:.2f}%')\n",
        "\n",
        "    all_mean_preds = np.vstack(all_mean_preds)\n",
        "    all_uncertainties = np.array(all_uncertainties)\n",
        "    all_confidences = np.array(all_confidences)\n",
        "    all_predictions = np.array(all_predictions)\n",
        "    all_targets = np.array(all_targets)\n",
        "\n",
        "    if return_samples:\n",
        "        all_samples = np.concatenate(all_samples, axis=1)\n",
        "        return all_predictions, all_uncertainties, all_targets, all_confidences, all_mean_preds, all_samples\n",
        "    else:\n",
        "        return all_predictions, all_uncertainties, all_targets, all_confidences, all_mean_preds\n"
      ]
    },
    {
      "cell_type": "code",
      "execution_count": null,
      "metadata": {
        "colab": {
          "base_uri": "https://localhost:8080/"
        },
        "id": "S29zpaRwrmcb",
        "outputId": "5cbbaa23-ce91-43c7-fab3-d9d3e8863d81"
      },
      "outputs": [
        {
          "name": "stderr",
          "output_type": "stream",
          "text": [
            "Évaluation: 100%|██████████| 79/79 [00:16<00:00,  4.72it/s]"
          ]
        },
        {
          "name": "stdout",
          "output_type": "stream",
          "text": [
            "Accuracy BNN manuel : 97.78%\n"
          ]
        },
        {
          "name": "stderr",
          "output_type": "stream",
          "text": [
            "\n"
          ]
        }
      ],
      "source": [
        "predictions, uncertainties, targets, confidences, mean_preds, samples = evaluate_with_uncertainty(\n",
        "    bnn_model, test_loader, num_samples=50, return_samples=True\n",
        ")"
      ]
    },
    {
      "cell_type": "code",
      "execution_count": null,
      "metadata": {
        "colab": {
          "base_uri": "https://localhost:8080/"
        },
        "id": "0iX-lFf_p5F5",
        "outputId": "3b1b4579-f6ed-4752-bee4-984420774b61"
      },
      "outputs": [
        {
          "name": "stdout",
          "output_type": "stream",
          "text": [
            "\n",
            " Résumé des métriques bayésiennes :\n",
            "- Accuracy                       : 97.78%\n",
            "- Confidence moyenne             : 0.9733\n",
            "- Negative Log-Likelihood (NLL) : 0.0707\n",
            "- Calibration (ECE)             : 0.0055\n",
            "- Mutual Information (épist.)   : 0.0216\n"
          ]
        }
      ],
      "source": [
        "def compute_nll(mean_pred, targets):\n",
        "    true_probs = mean_pred[np.arange(len(targets)), targets]\n",
        "    return -np.mean(np.log(true_probs + 1e-8))\n",
        "\n",
        "def compute_ece(confidences, predictions, labels, n_bins=15):\n",
        "    bins = np.linspace(0, 1, n_bins + 1)\n",
        "    ece = 0.0\n",
        "    for i in range(n_bins):\n",
        "        bin_mask = (confidences > bins[i]) & (confidences <= bins[i + 1])\n",
        "        if np.any(bin_mask):\n",
        "            accuracy = np.mean(predictions[bin_mask] == labels[bin_mask])\n",
        "            avg_confidence = np.mean(confidences[bin_mask])\n",
        "            ece += (np.sum(bin_mask) / len(labels)) * abs(avg_confidence - accuracy)\n",
        "    return ece\n",
        "\n",
        "def mutual_information(samples):\n",
        "    expected_entropy = -np.mean(np.sum(samples * np.log(samples + 1e-8), axis=2), axis=0)\n",
        "    entropy_of_mean = -np.sum(np.mean(samples, axis=0) * np.log(np.mean(samples, axis=0) + 1e-8), axis=1)\n",
        "    return entropy_of_mean - expected_entropy\n",
        "\n",
        "nll = compute_nll(mean_preds, targets)\n",
        "ece = compute_ece(confidences, predictions, targets)\n",
        "mi = mutual_information(samples)\n",
        "mean_mi = np.mean(mi)\n",
        "mean_conf = np.mean(confidences)\n",
        "\n",
        "print(\"\\n Résumé des métriques bayésiennes :\")\n",
        "print(f\"- Accuracy                       : {100. * np.mean(predictions == targets):.2f}%\")\n",
        "print(f\"- Confidence moyenne             : {mean_conf:.4f}\")\n",
        "print(f\"- Negative Log-Likelihood (NLL) : {nll:.4f}\")\n",
        "print(f\"- Calibration (ECE)             : {ece:.4f}\")\n",
        "print(f\"- Mutual Information (épist.)   : {mean_mi:.4f}\")\n"
      ]
    },
    {
      "cell_type": "markdown",
      "metadata": {
        "id": "D8ZEwDZkzTPp"
      },
      "source": [
        "# PARTIE 3 : BIBLIOTHÈQUES SPÉCIALISÉES"
      ]
    },
    {
      "cell_type": "markdown",
      "metadata": {
        "id": "MmH5Pw7Zz1fb"
      },
      "source": [
        "**Panorama des bibliothèques probabilistes**\n",
        "\n",
        "1. **Pyro** (PyTorch-based)\n",
        "2. **TensorFlow Probability**\n",
        "3. **NumPyro**"
      ]
    },
    {
      "cell_type": "code",
      "execution_count": null,
      "metadata": {
        "id": "kO3KM-h8zVGE"
      },
      "outputs": [],
      "source": [
        "import pyro\n",
        "import pyro.distributions as dist\n",
        "from pyro.nn import PyroModule, PyroSample\n",
        "from pyro.infer import SVI, Trace_ELBO\n",
        "from pyro.optim import Adam\n",
        "import pyro.poutine as poutine\n",
        "\n",
        "\n",
        "class PyroMLP(PyroModule):\n",
        "    \"\"\"\n",
        "    MLP bayésien avec Pyro (plus concis et élégant)\n",
        "    \"\"\"\n",
        "    def __init__(self, input_dim=784, hidden_dim=100, output_dim=10):\n",
        "        super().__init__()\n",
        "\n",
        "        # Définition des couches avec priors\n",
        "        self.fc1 = PyroModule[nn.Linear](input_dim, hidden_dim)\n",
        "        self.fc1.weight = PyroSample(dist.Normal(0., 1.).expand([hidden_dim, input_dim]).to_event(2))\n",
        "        self.fc1.bias = PyroSample(dist.Normal(0., 1.).expand([hidden_dim]).to_event(1))\n",
        "\n",
        "        self.fc2 = PyroModule[nn.Linear](hidden_dim, output_dim)\n",
        "        self.fc2.weight = PyroSample(dist.Normal(0., 1.).expand([output_dim, hidden_dim]).to_event(2))\n",
        "        self.fc2.bias = PyroSample(dist.Normal(0., 1.).expand([output_dim]).to_event(1))\n",
        "\n",
        "    def forward(self, x, y=None):\n",
        "        x = x.view(x.size(0), -1)\n",
        "        x = torch.relu(self.fc1(x))\n",
        "        logits = self.fc2(x)\n",
        "\n",
        "        # Likelihood\n",
        "        with pyro.plate(\"data\", x.shape[0]):\n",
        "            obs = pyro.sample(\"obs\", dist.Categorical(logits=logits), obs=y)\n",
        "\n",
        "        return logits"
      ]
    },
    {
      "cell_type": "code",
      "execution_count": null,
      "metadata": {
        "id": "0p2Yzcgy0x9R"
      },
      "outputs": [],
      "source": [
        "from pyro.infer.autoguide import AutoDiagonalNormal\n",
        "\n",
        "pyro_model = PyroMLP().to(device)\n",
        "guide = AutoDiagonalNormal(pyro_model)\n",
        "\n",
        "# Optimiseur et inférence variationnelle\n",
        "adam = Adam({\"lr\": 0.01})\n",
        "svi = SVI(pyro_model, guide, adam, loss=Trace_ELBO())"
      ]
    },
    {
      "cell_type": "code",
      "execution_count": null,
      "metadata": {
        "colab": {
          "base_uri": "https://localhost:8080/"
        },
        "id": "rzdyGGNg06CT",
        "outputId": "0cdf11a7-21a6-4dbd-ffa3-c4d7565edcb0"
      },
      "outputs": [
        {
          "name": "stderr",
          "output_type": "stream",
          "text": [
            "Pyro Epoch 1: 100%|██████████| 469/469 [00:29<00:00, 16.05it/s]\n"
          ]
        },
        {
          "name": "stdout",
          "output_type": "stream",
          "text": [
            "Pyro Epoch 1: Loss = 2613.1381\n"
          ]
        },
        {
          "name": "stderr",
          "output_type": "stream",
          "text": [
            "Pyro Epoch 2: 100%|██████████| 469/469 [00:28<00:00, 16.18it/s]\n"
          ]
        },
        {
          "name": "stdout",
          "output_type": "stream",
          "text": [
            "Pyro Epoch 2: Loss = 2631.1251\n"
          ]
        },
        {
          "name": "stderr",
          "output_type": "stream",
          "text": [
            "Pyro Epoch 3: 100%|██████████| 469/469 [00:28<00:00, 16.28it/s]\n"
          ]
        },
        {
          "name": "stdout",
          "output_type": "stream",
          "text": [
            "Pyro Epoch 3: Loss = 2612.3142\n"
          ]
        },
        {
          "name": "stderr",
          "output_type": "stream",
          "text": [
            "Pyro Epoch 4: 100%|██████████| 469/469 [00:28<00:00, 16.26it/s]\n"
          ]
        },
        {
          "name": "stdout",
          "output_type": "stream",
          "text": [
            "Pyro Epoch 4: Loss = 2595.0975\n"
          ]
        },
        {
          "name": "stderr",
          "output_type": "stream",
          "text": [
            "Pyro Epoch 5: 100%|██████████| 469/469 [00:28<00:00, 16.36it/s]\n"
          ]
        },
        {
          "name": "stdout",
          "output_type": "stream",
          "text": [
            "Pyro Epoch 5: Loss = 2597.0008\n"
          ]
        },
        {
          "name": "stderr",
          "output_type": "stream",
          "text": [
            "Pyro Epoch 6: 100%|██████████| 469/469 [00:29<00:00, 15.92it/s]\n"
          ]
        },
        {
          "name": "stdout",
          "output_type": "stream",
          "text": [
            "Pyro Epoch 6: Loss = 2616.3804\n"
          ]
        },
        {
          "name": "stderr",
          "output_type": "stream",
          "text": [
            "Pyro Epoch 7: 100%|██████████| 469/469 [00:28<00:00, 16.44it/s]\n"
          ]
        },
        {
          "name": "stdout",
          "output_type": "stream",
          "text": [
            "Pyro Epoch 7: Loss = 2630.2209\n"
          ]
        },
        {
          "name": "stderr",
          "output_type": "stream",
          "text": [
            "Pyro Epoch 8: 100%|██████████| 469/469 [00:28<00:00, 16.58it/s]\n"
          ]
        },
        {
          "name": "stdout",
          "output_type": "stream",
          "text": [
            "Pyro Epoch 8: Loss = 2614.6684\n"
          ]
        },
        {
          "name": "stderr",
          "output_type": "stream",
          "text": [
            "Pyro Epoch 9: 100%|██████████| 469/469 [00:28<00:00, 16.47it/s]\n"
          ]
        },
        {
          "name": "stdout",
          "output_type": "stream",
          "text": [
            "Pyro Epoch 9: Loss = 2607.0285\n"
          ]
        },
        {
          "name": "stderr",
          "output_type": "stream",
          "text": [
            "Pyro Epoch 10: 100%|██████████| 469/469 [00:28<00:00, 16.57it/s]"
          ]
        },
        {
          "name": "stdout",
          "output_type": "stream",
          "text": [
            "Pyro Epoch 10: Loss = 2607.2413\n"
          ]
        },
        {
          "name": "stderr",
          "output_type": "stream",
          "text": [
            "\n"
          ]
        }
      ],
      "source": [
        "# Entraînement Pyro\n",
        "pyro_losses = []\n",
        "\n",
        "for epoch in range(10):\n",
        "    epoch_loss = 0\n",
        "    for batch_idx, (data, target) in enumerate(tqdm(train_loader, desc=f'Pyro Epoch {epoch+1}')):\n",
        "        data, target = data.to(device), target.to(device)\n",
        "        loss = svi.step(data, target)\n",
        "        epoch_loss += loss\n",
        "\n",
        "    avg_loss = epoch_loss / len(train_loader)\n",
        "    pyro_losses.append(avg_loss)\n",
        "    print(f'Pyro Epoch {epoch+1}: Loss = {avg_loss:.4f}')"
      ]
    },
    {
      "cell_type": "code",
      "execution_count": null,
      "metadata": {
        "id": "Dh0rSz972ghi"
      },
      "outputs": [],
      "source": [
        "def pyro_predict_with_uncertainty(model, guide, x, num_samples=50, return_samples=False):\n",
        "    \"\"\"\n",
        "    Prédiction avec estimation d'incertitude via Pyro\n",
        "    \"\"\"\n",
        "    model.eval()\n",
        "    x = x.view(x.size(0), -1)\n",
        "    predictions = []\n",
        "\n",
        "    for _ in range(num_samples):\n",
        "        sampled_params = guide()\n",
        "        conditioned_model = pyro.poutine.condition(model, data=sampled_params)\n",
        "        with torch.no_grad():\n",
        "            logits = conditioned_model(x)\n",
        "            probs = torch.softmax(logits, dim=1)\n",
        "            predictions.append(probs.cpu().numpy())\n",
        "\n",
        "    predictions = np.stack(predictions)\n",
        "    mean_pred = predictions.mean(axis=0)\n",
        "    var_pred = predictions.var(axis=0)\n",
        "\n",
        "    if return_samples:\n",
        "        return mean_pred, var_pred, predictions\n",
        "    else:\n",
        "        return mean_pred, var_pred\n"
      ]
    },
    {
      "cell_type": "code",
      "execution_count": null,
      "metadata": {
        "id": "vilkOPTk2m3g"
      },
      "outputs": [],
      "source": [
        "from sklearn.metrics import log_loss\n",
        "\n",
        "def evaluate_pyro(model, guide, data_loader, num_samples=50, return_samples=False):\n",
        "    \"\"\"\n",
        "    Évaluation du modèle Pyro avec incertitude et métriques BNN\n",
        "    \"\"\"\n",
        "    model.eval()\n",
        "    all_predictions = []\n",
        "    all_uncertainties = []\n",
        "    all_targets = []\n",
        "    all_confidences = []\n",
        "    all_mean_preds = []\n",
        "    all_samples = [] if return_samples else None\n",
        "\n",
        "    correct = 0\n",
        "    total = 0\n",
        "\n",
        "    for data, target in tqdm(data_loader, desc='Évaluation Pyro'):\n",
        "        data, target = data.to(device), target.to(device)\n",
        "\n",
        "        if return_samples:\n",
        "            mean_pred, var_pred, samples = pyro_predict_with_uncertainty(model, guide, data, num_samples, return_samples=True)\n",
        "            all_samples.append(samples)\n",
        "        else:\n",
        "            mean_pred, var_pred = pyro_predict_with_uncertainty(model, guide, data, num_samples)\n",
        "\n",
        "        pred_class = np.argmax(mean_pred, axis=1)\n",
        "        entropy = -np.sum(mean_pred * np.log(mean_pred + 1e-8), axis=1)\n",
        "        confidence = np.max(mean_pred, axis=1)\n",
        "\n",
        "        correct += (pred_class == target.cpu().numpy()).sum()\n",
        "        total += target.size(0)\n",
        "\n",
        "        all_predictions.extend(pred_class)\n",
        "        all_uncertainties.extend(entropy)\n",
        "        all_confidences.extend(confidence)\n",
        "        all_mean_preds.extend(mean_pred)\n",
        "        all_targets.extend(target.cpu().numpy())\n",
        "\n",
        "    accuracy = 100. * correct / total\n",
        "    print(f\"Accuracy : {accuracy:.2f}%\")\n",
        "\n",
        "    return {\n",
        "        'predictions': np.array(all_predictions),\n",
        "        'uncertainties': np.array(all_uncertainties),\n",
        "        'targets': np.array(all_targets),\n",
        "        'confidences': np.array(all_confidences),\n",
        "        'mean_preds': np.array(all_mean_preds),\n",
        "        'samples': np.concatenate(all_samples, axis=1) if return_samples else None\n",
        "    }\n"
      ]
    },
    {
      "cell_type": "code",
      "execution_count": null,
      "metadata": {
        "colab": {
          "base_uri": "https://localhost:8080/"
        },
        "id": "1uW1jnsq2tUl",
        "outputId": "efcd7f4d-ef4f-4ff8-cb06-4345e2b7bae5"
      },
      "outputs": [
        {
          "name": "stderr",
          "output_type": "stream",
          "text": [
            "Évaluation Pyro: 100%|██████████| 79/79 [00:25<00:00,  3.10it/s]"
          ]
        },
        {
          "name": "stdout",
          "output_type": "stream",
          "text": [
            "Accuracy : 69.18%\n",
            "MÉTRIQUES\n",
            "Accuracy                      : 69.18 %\n",
            "Negative Log-Likelihood (NLL) : 1.0915\n",
            "Confiance moyenne             : 0.4832\n"
          ]
        },
        {
          "name": "stderr",
          "output_type": "stream",
          "text": [
            "\n"
          ]
        }
      ],
      "source": [
        "results_pyro = evaluate_pyro(pyro_model, guide, test_loader, num_samples=50, return_samples=True)\n",
        "\n",
        "preds = results_pyro['predictions']\n",
        "targets = results_pyro['targets']\n",
        "confidences = results_pyro['confidences']\n",
        "mean_preds = results_pyro['mean_preds']\n",
        "\n",
        "from sklearn.metrics import log_loss\n",
        "\n",
        "accuracy = 100. * (preds == targets).sum() / len(targets)\n",
        "nll = log_loss(targets, mean_preds)\n",
        "confidence_avg = np.mean(confidences)\n",
        "\n",
        "# Affichage\n",
        "print(\"MÉTRIQUES\")\n",
        "print(f\"Accuracy                      : {accuracy:.2f} %\")\n",
        "print(f\"Negative Log-Likelihood (NLL) : {nll:.4f}\")\n",
        "print(f\"Confiance moyenne             : {confidence_avg:.4f}\")"
      ]
    },
    {
      "cell_type": "markdown",
      "metadata": {
        "id": "6mIoWOr7P2T7"
      },
      "source": [
        "# Partie 4 : Entrainement d'un CNN Bayesien Hybride"
      ]
    },
    {
      "cell_type": "code",
      "execution_count": null,
      "metadata": {
        "id": "MBO5I_flP7uM"
      },
      "outputs": [],
      "source": [
        "import torch\n",
        "import torch.nn as nn\n",
        "import torch.nn.functional as F\n",
        "from torch.utils.data import DataLoader, Subset\n",
        "from torchvision import datasets, transforms\n",
        "\n",
        "import pyro\n",
        "import pyro.distributions as dist\n",
        "from pyro.nn import PyroModule, PyroSample\n",
        "from pyro.infer import SVI, Trace_ELBO\n",
        "from pyro.optim import Adam\n",
        "\n",
        "import matplotlib.pyplot as plt\n",
        "import numpy as np\n",
        "\n",
        "device = torch.device(\"cuda\" if torch.cuda.is_available() else \"cpu\")\n",
        "\n",
        "transform = transforms.Compose([\n",
        "    transforms.ToTensor(),\n",
        "])\n",
        "\n",
        "\n",
        "NUM_CLASSES = 10\n"
      ]
    },
    {
      "cell_type": "code",
      "execution_count": null,
      "metadata": {
        "id": "xv88BMtEeMKs"
      },
      "outputs": [],
      "source": [
        "# Charger KMNIST\n",
        "train_dataset = datasets.MNIST(root=\"./data\", train=True, download=True, transform=transform)\n",
        "test_dataset = datasets.MNIST(root=\"./data\", train=False, download=True, transform=transform)"
      ]
    },
    {
      "cell_type": "code",
      "execution_count": null,
      "metadata": {
        "id": "3yQjgOmNdld0"
      },
      "outputs": [],
      "source": [
        "kmnist_dataset = datasets.KMNIST(root=\"./data\", train=True, download=True, transform=transform)"
      ]
    },
    {
      "cell_type": "code",
      "execution_count": null,
      "metadata": {
        "colab": {
          "base_uri": "https://localhost:8080/",
          "height": 806
        },
        "id": "Gxh1Ywi_8UI8",
        "outputId": "877d126d-7b7e-463c-b747-3e9290cec447"
      },
      "outputs": [
        {
          "data": {
            "image/png": "[encoded data removed]",
            "text/plain": [
              "<Figure size 1000x800 with 12 Axes>"
            ]
          },
          "metadata": {},
          "output_type": "display_data"
        }
      ],
      "source": [
        "fig, axes = plt.subplots(3, 4, figsize=(10, 8))\n",
        "for i in range(12):\n",
        "    image, label = kmnist_dataset[i]\n",
        "    ax = axes[i // 4, i % 4]\n",
        "    ax.imshow(image.squeeze(), cmap=\"gray\")\n",
        "    ax.set_title(f\"Classe : {label}\")\n",
        "    ax.axis(\"off\")\n",
        "\n",
        "plt.tight_layout()\n",
        "plt.suptitle(\"Exemples du dataset KMNIST\", fontsize=16)\n",
        "plt.subplots_adjust(top=0.90)\n",
        "plt.show()"
      ]
    },
    {
      "cell_type": "code",
      "execution_count": null,
      "metadata": {
        "id": "dEFCuj3eeQr_"
      },
      "outputs": [],
      "source": [
        "train_loader = DataLoader(train_dataset, batch_size=128, shuffle=True)\n",
        "test_loader = DataLoader(test_dataset, batch_size=256, shuffle=False)\n",
        "kmnist_loader = DataLoader(kmnist_dataset, batch_size=256, shuffle=False)"
      ]
    },
    {
      "cell_type": "code",
      "execution_count": null,
      "metadata": {
        "id": "QILZvE6Vegq-"
      },
      "outputs": [],
      "source": [
        "class ClassicCNN(nn.Module):\n",
        "    def __init__(self):\n",
        "        super().__init__()\n",
        "        self.conv1 = nn.Conv2d(1, 32, 3)\n",
        "        self.conv2 = nn.Conv2d(32, 64, 3)\n",
        "        self.pool = nn.MaxPool2d(2, 2)\n",
        "\n",
        "        with torch.no_grad():\n",
        "            x = torch.zeros(1, 1, 28, 28)\n",
        "            x = self.pool(F.relu(self.conv1(x)))\n",
        "            x = self.pool(F.relu(self.conv2(x)))\n",
        "            self.flatten_dim = x.view(1, -1).shape[1]\n",
        "\n",
        "        self.fc1 = nn.Linear(self.flatten_dim, 128)\n",
        "        self.fc2 = nn.Linear(128, NUM_CLASSES)\n",
        "\n",
        "    def forward(self, x):\n",
        "        x = self.pool(F.relu(self.conv1(x)))\n",
        "        x = self.pool(F.relu(self.conv2(x)))\n",
        "        x = x.view(x.size(0), -1)\n",
        "        x = F.relu(self.fc1(x))\n",
        "        return self.fc2(x)\n"
      ]
    },
    {
      "cell_type": "code",
      "execution_count": null,
      "metadata": {
        "id": "YhmzCHshfFuz"
      },
      "outputs": [],
      "source": [
        "def train_classic(model, optimizer, loader, epochs=5):\n",
        "    model.train()\n",
        "    for epoch in range(epochs):\n",
        "        total = 0\n",
        "        correct = 0\n",
        "        for x, y in loader:\n",
        "            x, y = x.to(device), y.to(device)\n",
        "            optimizer.zero_grad()\n",
        "            output = model(x)\n",
        "            loss = F.cross_entropy(output, y)\n",
        "            loss.backward()\n",
        "            optimizer.step()\n",
        "            total += y.size(0)\n",
        "            correct += (output.argmax(1) == y).sum().item()\n",
        "        acc = correct / total\n",
        "        print(f\"[Classic CNN] Epoch {epoch+1} - Accuracy: {acc:.4f}\")"
      ]
    },
    {
      "cell_type": "code",
      "execution_count": null,
      "metadata": {
        "colab": {
          "base_uri": "https://localhost:8080/"
        },
        "id": "B1S1AmFDfJTt",
        "outputId": "15441e57-8e3b-4a23-b840-31b1e0d96042"
      },
      "outputs": [
        {
          "name": "stdout",
          "output_type": "stream",
          "text": [
            "[Classic CNN] Epoch 1 - Accuracy: 0.9242\n",
            "[Classic CNN] Epoch 2 - Accuracy: 0.9795\n",
            "[Classic CNN] Epoch 3 - Accuracy: 0.9862\n",
            "[Classic CNN] Epoch 4 - Accuracy: 0.9886\n",
            "[Classic CNN] Epoch 5 - Accuracy: 0.9911\n"
          ]
        }
      ],
      "source": [
        "classic_model = ClassicCNN().to(device)\n",
        "optimizer = torch.optim.Adam(classic_model.parameters(), lr=1e-3)\n",
        "train_classic(classic_model, optimizer, train_loader)"
      ]
    },
    {
      "cell_type": "code",
      "execution_count": null,
      "metadata": {
        "id": "pLcLqFsnfA0H"
      },
      "outputs": [],
      "source": [
        "class BayesianCNN(PyroModule):\n",
        "    def __init__(self):\n",
        "        super().__init__()\n",
        "        self.conv1 = nn.Conv2d(1, 32, 3)\n",
        "        self.conv2 = nn.Conv2d(32, 64, 3)\n",
        "        self.pool = nn.MaxPool2d(2, 2)\n",
        "\n",
        "        with torch.no_grad():\n",
        "            x = torch.zeros(1, 1, 28, 28)\n",
        "            x = self.pool(F.relu(self.conv1(x)))\n",
        "            x = self.pool(F.relu(self.conv2(x)))\n",
        "            self.flatten_dim = x.view(1, -1).shape[1]\n",
        "\n",
        "        self.fc1 = nn.Linear(self.flatten_dim, 128)\n",
        "\n",
        "        # Couche bayésienne\n",
        "        self.fc2 = PyroModule[nn.Linear](128, NUM_CLASSES)\n",
        "        self.fc2.weight = PyroSample(dist.Normal(0., 1.).expand([NUM_CLASSES, 128]).to_event(2))\n",
        "        self.fc2.bias = PyroSample(dist.Normal(0., 1.).expand([NUM_CLASSES]).to_event(1))\n",
        "\n",
        "    def forward(self, x, y=None):\n",
        "        x = self.pool(F.relu(self.conv1(x)))\n",
        "        x = self.pool(F.relu(self.conv2(x)))\n",
        "        x = x.view(x.size(0), -1)\n",
        "        x = F.relu(self.fc1(x))\n",
        "        logits = self.fc2(x)\n",
        "        with pyro.plate(\"data\", x.shape[0]):\n",
        "            obs = pyro.sample(\"obs\", dist.Categorical(logits=logits), obs=y)\n",
        "        return logits\n"
      ]
    },
    {
      "cell_type": "code",
      "execution_count": null,
      "metadata": {
        "colab": {
          "base_uri": "https://localhost:8080/"
        },
        "id": "Mopd44R4gR4Z",
        "outputId": "b2243579-ea07-412c-e1ce-9158aca1c738"
      },
      "outputs": [
        {
          "name": "stdout",
          "output_type": "stream",
          "text": [
            "[BNN] Epoch 1 - Loss: 16.5866\n",
            "[BNN] Epoch 2 - Loss: 12.1625\n",
            "[BNN] Epoch 3 - Loss: 8.4616\n",
            "[BNN] Epoch 4 - Loss: 5.4792\n",
            "[BNN] Epoch 5 - Loss: 3.3716\n",
            "[BNN] Epoch 6 - Loss: 2.0395\n",
            "[BNN] Epoch 7 - Loss: 1.3144\n",
            "[BNN] Epoch 8 - Loss: 0.9730\n",
            "[BNN] Epoch 9 - Loss: 0.7964\n",
            "[BNN] Epoch 10 - Loss: 0.7139\n",
            "[BNN] Epoch 11 - Loss: 0.6415\n",
            "[BNN] Epoch 12 - Loss: 0.6095\n",
            "[BNN] Epoch 13 - Loss: 0.5850\n",
            "[BNN] Epoch 14 - Loss: 0.5738\n",
            "[BNN] Epoch 15 - Loss: 0.5502\n",
            "[BNN] Epoch 16 - Loss: 0.5402\n",
            "[BNN] Epoch 17 - Loss: 0.5292\n",
            "[BNN] Epoch 18 - Loss: 0.5304\n",
            "[BNN] Epoch 19 - Loss: 0.5149\n",
            "[BNN] Epoch 20 - Loss: 0.5067\n"
          ]
        }
      ],
      "source": [
        "bnn = BayesianCNN().to(device)\n",
        "\n",
        "guide = pyro.infer.autoguide.AutoDiagonalNormal(bnn)\n",
        "optimizer_bnn = Adam({\"lr\": 1e-3})\n",
        "svi = SVI(bnn, guide, optimizer_bnn, loss=Trace_ELBO())\n",
        "\n",
        "def train_bnn(epochs=20):\n",
        "    pyro.clear_param_store()\n",
        "    for epoch in range(epochs):\n",
        "        total_loss = 0.\n",
        "        for x, y in train_loader:\n",
        "            x, y = x.to(device), y.to(device)\n",
        "            loss = svi.step(x, y)\n",
        "            total_loss += loss\n",
        "        avg_loss = total_loss / len(train_loader.dataset)\n",
        "        print(f\"[BNN] Epoch {epoch+1} - Loss: {avg_loss:.4f}\")\n",
        "\n",
        "train_bnn()"
      ]
    },
    {
      "cell_type": "code",
      "execution_count": null,
      "metadata": {
        "colab": {
          "base_uri": "https://localhost:8080/"
        },
        "id": "Mw62MyYSMtDm",
        "outputId": "17435931-45e3-4f5c-d98a-52a8788c5898"
      },
      "outputs": [
        {
          "name": "stdout",
          "output_type": "stream",
          "text": [
            "[BNN] Epoch 1 - Loss: 0.5005\n",
            "[BNN] Epoch 2 - Loss: 0.5059\n",
            "[BNN] Epoch 3 - Loss: 0.4934\n",
            "[BNN] Epoch 4 - Loss: 0.4912\n",
            "[BNN] Epoch 5 - Loss: 0.4839\n",
            "[BNN] Epoch 6 - Loss: 0.4767\n",
            "[BNN] Epoch 7 - Loss: 0.4785\n",
            "[BNN] Epoch 8 - Loss: 0.4687\n",
            "[BNN] Epoch 9 - Loss: 0.4674\n",
            "[BNN] Epoch 10 - Loss: 0.4724\n",
            "[BNN] Epoch 11 - Loss: 0.4368\n",
            "[BNN] Epoch 12 - Loss: 0.4513\n",
            "[BNN] Epoch 13 - Loss: 0.4560\n",
            "[BNN] Epoch 14 - Loss: 0.4342\n",
            "[BNN] Epoch 15 - Loss: 0.4407\n",
            "[BNN] Epoch 16 - Loss: 0.4395\n",
            "[BNN] Epoch 17 - Loss: 0.4272\n",
            "[BNN] Epoch 18 - Loss: 0.4325\n",
            "[BNN] Epoch 19 - Loss: 0.4225\n",
            "[BNN] Epoch 20 - Loss: 0.4265\n"
          ]
        }
      ],
      "source": [
        "train_bnn(epochs=10)"
      ]
    },
    {
      "cell_type": "code",
      "execution_count": null,
      "metadata": {
        "id": "fGEzQRUMgdA7"
      },
      "outputs": [],
      "source": [
        "# Fonction prédiction SVI (posterior sampling)\n",
        "def predict_bnn(x, n_samples=20):\n",
        "    bnn.eval()\n",
        "    predictive = pyro.infer.Predictive(bnn, guide=guide, num_samples=n_samples,\n",
        "                                       return_sites=[\"_RETURN\"])\n",
        "    samples = predictive(x.to(device))[\"_RETURN\"]\n",
        "    probs = torch.softmax(samples, dim=-1)\n",
        "    mean_probs = probs.mean(dim=0)\n",
        "    var_probs = probs.var(dim=0).mean(dim=1)\n",
        "    return mean_probs, var_probs\n",
        "\n",
        "def evaluate(model, loader, is_bnn=False):\n",
        "    model.eval()\n",
        "    total = 0\n",
        "    correct = 0\n",
        "    uncertainties = []\n",
        "    with torch.no_grad():\n",
        "        for x, y in loader:\n",
        "            x, y = x.to(device), y.to(device)\n",
        "            if is_bnn:\n",
        "                preds, var = predict_bnn(x)\n",
        "                uncertainties += var.cpu().tolist()\n",
        "            else:\n",
        "                preds = torch.softmax(model(x), dim=-1)\n",
        "            total += y.size(0)\n",
        "            correct += (preds.argmax(1) == y).sum().item()\n",
        "    acc = correct / total\n",
        "    return acc, uncertainties"
      ]
    },
    {
      "cell_type": "code",
      "execution_count": null,
      "metadata": {
        "id": "tsiNXG6LlSgE"
      },
      "outputs": [],
      "source": [
        "def evaluate_accuracy(model, dataloader):\n",
        "    model.eval()\n",
        "    total_correct = 0\n",
        "    total_samples = 0\n",
        "    with torch.no_grad():\n",
        "        for x, y in dataloader:\n",
        "            x, y = x.to(device), y.to(device)\n",
        "            out = model(x)\n",
        "            preds = out.argmax(dim=1)\n",
        "            total_correct += (preds == y).sum().item()\n",
        "            total_samples += y.size(0)\n",
        "    return total_correct / total_samples"
      ]
    },
    {
      "cell_type": "code",
      "execution_count": null,
      "metadata": {
        "id": "sC2RrykSluYg"
      },
      "outputs": [],
      "source": [
        "from pyro.infer import Predictive\n",
        "\n",
        "def evaluate_bnn_accuracy(model, guide, dataloader, n_samples=20):\n",
        "    model.eval()\n",
        "    total_correct = 0\n",
        "    total_samples = 0\n",
        "    for x, y in dataloader:\n",
        "        x, y = x.to(device), y.to(device)\n",
        "        predictive = Predictive(model, guide=guide, num_samples=n_samples, return_sites=[\"_RETURN\"])\n",
        "        samples = predictive(x)[\"_RETURN\"]  # (n_samples, batch, classes)\n",
        "        probs = torch.softmax(samples, dim=-1)\n",
        "        mean_probs = probs.mean(dim=0)\n",
        "        preds = mean_probs.argmax(dim=1)\n",
        "        total_correct += (preds == y).sum().item()\n",
        "        total_samples += y.size(0)\n",
        "    return total_correct / total_samples"
      ]
    },
    {
      "cell_type": "code",
      "execution_count": null,
      "metadata": {
        "id": "Sgd09hcZlZ6_"
      },
      "outputs": [],
      "source": [
        "def show_ood_examples(classic_model, bnn_model, guide, dataloader, n_samples=30, max_examples=10):\n",
        "    classic_model.eval()\n",
        "    bnn_model.eval()\n",
        "    examples_shown = 0\n",
        "\n",
        "    for x, y in dataloader:\n",
        "        x, y = x.to(device), y.to(device)\n",
        "        batch_size = y.size(0)\n",
        "\n",
        "        # CNN classique\n",
        "        with torch.no_grad():\n",
        "            logits_classic = classic_model(x)\n",
        "            probs_classic = torch.softmax(logits_classic, dim=1)\n",
        "            preds_classic = probs_classic.argmax(dim=1)\n",
        "            conf_classic = probs_classic.max(dim=1).values\n",
        "\n",
        "        # BNN\n",
        "        predictive = Predictive(bnn_model, guide=guide, num_samples=n_samples, return_sites=[\"_RETURN\"])\n",
        "        samples = predictive(x)[\"_RETURN\"]  # (n_samples, batch, classes)\n",
        "        probs_bnn = torch.softmax(samples, dim=-1)\n",
        "        mean_probs_bnn = probs_bnn.mean(dim=0)\n",
        "        var_probs_bnn = probs_bnn.var(dim=0).mean(dim=1)  # incertitude moyenne par exemple\n",
        "        preds_bnn = mean_probs_bnn.argmax(dim=1)\n",
        "        conf_bnn = mean_probs_bnn.max(dim=1).values\n",
        "\n",
        "        for i in range(batch_size):\n",
        "            if examples_shown >= max_examples:\n",
        "                return\n",
        "            print(f\"\\nExemple #{examples_shown+1}:\")\n",
        "            print(f\" CNN classique  : Prédit {preds_classic[i].item()} avec prob {conf_classic[i].item():.3f}\")\n",
        "            print(f\" BNN           : Prédit {preds_bnn[i].item()} avec prob {conf_bnn[i].item():.3f} et incertitude {var_probs_bnn[i].item():.4f}\")\n",
        "            examples_shown += 1"
      ]
    },
    {
      "cell_type": "code",
      "execution_count": null,
      "metadata": {
        "colab": {
          "base_uri": "https://localhost:8080/"
        },
        "id": "kEEF6fFlle9x",
        "outputId": "980c5b27-d505-4376-d2ed-818dc85bac9a"
      },
      "outputs": [
        {
          "name": "stdout",
          "output_type": "stream",
          "text": [
            "Accuracy CNN classique sur classes apprises  : 0.9891\n",
            "Accuracy BNN sur classes apprises            : 0.9935\n",
            "\n",
            "--- Exemples sur classes non apprises ---\n",
            "\n",
            "Exemple #1:\n",
            " CNN classique  : Prédit 4 avec prob 0.993\n",
            " BNN           : Prédit 4 avec prob 0.936 et incertitude 0.0073\n",
            "\n",
            "Exemple #2:\n",
            " CNN classique  : Prédit 2 avec prob 0.802\n",
            " BNN           : Prédit 6 avec prob 0.307 et incertitude 0.0176\n",
            "\n",
            "Exemple #3:\n",
            " CNN classique  : Prédit 5 avec prob 0.571\n",
            " BNN           : Prédit 6 avec prob 0.837 et incertitude 0.0081\n",
            "\n",
            "Exemple #4:\n",
            " CNN classique  : Prédit 3 avec prob 0.910\n",
            " BNN           : Prédit 3 avec prob 0.438 et incertitude 0.0251\n",
            "\n",
            "Exemple #5:\n",
            " CNN classique  : Prédit 2 avec prob 0.971\n",
            " BNN           : Prédit 2 avec prob 0.826 et incertitude 0.0096\n",
            "\n",
            "Exemple #6:\n",
            " CNN classique  : Prédit 3 avec prob 0.828\n",
            " BNN           : Prédit 1 avec prob 0.430 et incertitude 0.0138\n",
            "\n",
            "Exemple #7:\n",
            " CNN classique  : Prédit 5 avec prob 0.653\n",
            " BNN           : Prédit 8 avec prob 0.454 et incertitude 0.0188\n",
            "\n",
            "Exemple #8:\n",
            " CNN classique  : Prédit 4 avec prob 0.542\n",
            " BNN           : Prédit 3 avec prob 0.430 et incertitude 0.0122\n",
            "\n",
            "Exemple #9:\n",
            " CNN classique  : Prédit 3 avec prob 0.895\n",
            " BNN           : Prédit 3 avec prob 0.333 et incertitude 0.0126\n",
            "\n",
            "Exemple #10:\n",
            " CNN classique  : Prédit 4 avec prob 0.986\n",
            " BNN           : Prédit 4 avec prob 0.607 et incertitude 0.0130\n"
          ]
        }
      ],
      "source": [
        "acc_classic_seen = evaluate_accuracy(classic_model, test_loader)\n",
        "acc_bnn_seen = evaluate_bnn_accuracy(bnn, guide, test_loader)\n",
        "\n",
        "print(f\"Accuracy CNN classique sur classes apprises  : {acc_classic_seen:.4f}\")\n",
        "print(f\"Accuracy BNN sur classes apprises            : {acc_bnn_seen:.4f}\")\n",
        "\n",
        "print(\"\\n--- Exemples sur classes non apprises ---\")\n",
        "show_ood_examples(classic_model, bnn, guide, kmnist_loader, n_samples=200, max_examples=10)"
      ]
    },
    {
      "cell_type": "code",
      "execution_count": null,
      "metadata": {
        "colab": {
          "base_uri": "https://localhost:8080/"
        },
        "id": "sPJXMXYCmLZY",
        "outputId": "a2cca8b1-f6b5-47cf-f793-347c5b127069"
      },
      "outputs": [
        {
          "name": "stdout",
          "output_type": "stream",
          "text": [
            "Modèles sauvegardés avec succès !\n"
          ]
        }
      ],
      "source": [
        "# === Sauvegarde ===\n",
        "\n",
        "# CNN classique\n",
        "torch.save(classic_model.state_dict(), \"classic_cnn.pth\")\n",
        "\n",
        "# BNN Pyro\n",
        "torch.save(bnn.state_dict(), \"bnn_pyro.pth\")\n",
        "\n",
        "# Guide Pyro\n",
        "torch.save(guide.state_dict(), \"guide.pth\")\n",
        "\n",
        "print(\"Modèles sauvegardés avec succès !\")"
      ]
    },
    {
      "cell_type": "code",
      "execution_count": null,
      "metadata": {
        "colab": {
          "base_uri": "https://localhost:8080/"
        },
        "id": "CofuvThQmSWD",
        "outputId": "71391f39-c810-4357-ea69-7038d9dcdbe3"
      },
      "outputs": [
        {
          "name": "stdout",
          "output_type": "stream",
          "text": [
            "Modèles rechargés avec succès !\n"
          ]
        }
      ],
      "source": [
        "# === Rechargement ===\n",
        "\n",
        "classic_model = ClassicCNN()\n",
        "classic_model.load_state_dict(torch.load(\"classic_cnn.pth\"))\n",
        "classic_model.to(device)\n",
        "classic_model.eval()\n",
        "\n",
        "bnn = BayesianCNN()\n",
        "bnn.load_state_dict(torch.load(\"bnn_pyro.pth\"))\n",
        "bnn.to(device)\n",
        "bnn.eval()\n",
        "\n",
        "guide = pyro.infer.autoguide.AutoDiagonalNormal(bnn)\n",
        "guide.load_state_dict(torch.load(\"guide.pth\"), strict=False)\n",
        "\n",
        "print(\"Modèles rechargés avec succès !\")"
      ]
    },
    {
      "cell_type": "markdown",
      "metadata": {
        "id": "6BoEVpUjAocm"
      },
      "source": [
        "# RÉSUMÉ ET CONCLUSIONS\n",
        "\n",
        "\n",
        "**Ce que nous avons implémenté :**\n",
        "\n",
        "1. **BNN Manuel (Bayes by Backprop)** :\n",
        "\n",
        "2. **BNN avec Pyro** :\n",
        "\n",
        "**Avantages/Inconvénients** :\n",
        "\n",
        "**Implémentation manuelle** :\n",
        "- Contrôle total, compréhension profonde\n",
        "- Plus de code, plus d'erreurs possibles\n",
        "\n",
        "**Bibliothèques (Pyro) ou autres** :\n",
        "- Code concis, moins d'erreurs, optimisations\n",
        "- Moins de contrôle, courbe d'apprentissage\n",
        "\n",
        "**Pour aller plus loin** :\n",
        "- Essayer MCMC pour une inférence exacte\n",
        "- Explorer d'autres approximations\n",
        "- etc...\n",
        "\n",
        "\n",
        "**Ressources supplémentaires**\n",
        "\n",
        "- [notebook 1](https://colab.research.google.com/github/charlesollion/dlexperiments/blob/master/6-Bayesian-DL/BayesianDeepWine.ipynb\n",
        ")\n",
        "\n",
        "- [notebook 2](https://uvadlc-notebooks.readthedocs.io/en/latest/tutorial_notebooks/DL2/Bayesian_Neural_Networks/dl2_bnn_tut1_students_with_answers.html)"
      ]
    }
  ],
  "metadata": {
    "colab": {
      "collapsed_sections": [
        "V1YYxhLNySBh",
        "j8nlysYZy8GZ",
        "loW7ZeB_06zk",
        "D8ZEwDZkzTPp"
      ],
      "provenance": []
    },
    "kernelspec": {
      "display_name": "Python 3",
      "name": "python3"
    },
    "language_info": {
      "name": "python"
    }
  },
  "nbformat": 4,
  "nbformat_minor": 0
}
